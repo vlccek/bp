{
 "cells": [
  {
   "cell_type": "code",
   "execution_count": null,
   "metadata": {
    "colab": {
     "base_uri": "https://localhost:8080/"
    },
    "id": "ajvzqcEuSVFG",
    "is_executing": true,
    "outputId": "c6cee5e6-86fa-4730-a013-48d86c121f7a"
   },
   "outputs": [],
   "source": [
    "import numpy as np\n",
    "import random\n",
    "from math import sqrt\n",
    "\n",
    "random.seed(2)\n",
    "\n",
    "points = np.array([\n",
    "    [0.3745401188473625, 0.9507143064099162],\n",
    "    [0.7319939418114051, 0.5986584841970366],\n",
    "    [0.15601864044243652, 0.15599452033620265],\n",
    "    [0.05808361216819946, 0.8661761457749352],\n",
    "    [0.6011150117432088, 0.7080725777960455],\n",
    "    [0.020584494295802447, 0.9699098521619943],\n",
    "    [0.8324426408004217, 0.21233911067827616],\n",
    "    [0.18182496720710062, 0.18340450985343382],\n",
    "    [0.3042422429595377, 0.5247564316322378],\n",
    "    [0.43194501864211576, 0.2912291401980419],\n",
    "    [0.6118528947223795, 0.13949386065204183],\n",
    "    [0.29214464853521815, 0.3663618432936917],\n",
    "    [0.45606998421703593, 0.7851759613930136],\n",
    "    [0.19967378215835974, 0.5142344384136116],\n",
    "    [0.5924145688620425, 0.046450412719997725],\n",
    "    [0.6075448519014384, 0.17052412368729153],\n",
    "    [0.06505159298527952, 0.9488855372533332],\n",
    "    [0.9656320330745594, 0.8083973481164611],\n",
    "    [0.3046137691733707, 0.09767211400638387],\n",
    "    [0.6842330265121569, 0.4401524937396013]\n",
    "])\n",
    "\n",
    "\n",
    "def find_furthest_point(point, selected_point):\n",
    "    # Vypočítáme euklidovské vzdálenosti mezi referenčním bodem a všemi body v poli\n",
    "    vzdalenosti = np.sqrt(np.sum((point - selected_point) ** 2, axis=1))\n",
    "    # Najdeme index bodu s největší vzdáleností\n",
    "    index_nejvzdalenejsiho_bodu = np.argmax(vzdalenosti)\n",
    "    # Vrátíme bod s největší vzdáleností\n",
    "    return point[index_nejvzdalenejsiho_bodu]\n",
    "\n",
    "\n",
    "# Volání funkce a tisk výsledků\n",
    "selected_point = random.choice(points)\n",
    "furthest_point = find_furthest_point(points, selected_point)\n",
    "print(f\"Náhodně vybraný bod: {selected_point}\")\n",
    "print(f\"Nejvzdálenější bod: {furthest_point}\")\n",
    "\n",
    "print(f\"nejvzdálenější od nejvzdálenšjího: {find_furthest_point(points, furthest_point)}\")\n",
    "\n",
    "prijimka = [furthest_point, find_furthest_point(points, furthest_point)]\n",
    "a = furthest_point\n",
    "b = find_furthest_point(points, furthest_point)\n"
   ]
  },
  {
   "cell_type": "code",
   "execution_count": 55,
   "metadata": {
    "ExecuteTime": {
     "end_time": "2024-03-21T00:09:26.935049871Z",
     "start_time": "2024-03-21T00:09:26.893962613Z"
    },
    "colab": {
     "base_uri": "https://localhost:8080/"
    },
    "id": "yUilZWl6cDp5",
    "outputId": "9e87a79e-6c93-493a-ef9d-f99de01238db"
   },
   "outputs": [
    {
     "name": "stdout",
     "output_type": "stream",
     "text": [
      "\\addplot[mark=triangle*,red]  coordinates{(0.21936602633519917,0.7844204618433638)(0.5860498624454391,0.4422560741259731)(0.4989656852230379,0.5235170985967039)(0.09237250163327393,0.9029221718850465)(0.46151234520466733,0.5584660052387307)(0.020584494295802447,0.9699098521619943)(0.8324426408004217,0.21233911067827616)(0.4990881990594175,0.5234027770267748)(0.3942582376700823,0.6212229589407545)(0.5790062182979707,0.4488287232303999)(0.7508621358082932,0.2884644829783388)(0.4667994787187105,0.5535324122535499)(0.3455190930103283,0.6667030100040372)(0.34360967163737505,0.668484752013452)(0.7868819240523611,0.2548532692390556)(0.7330812269314801,0.30505641640914427)(0.0548413785472877,0.9379436603893877)(0.6063221413788916,0.4233393638000357)(0.6074885972732018,0.4222509065854778)(0.6395828714377785,0.392302715290089)}\n"
     ]
    }
   ],
   "source": [
    "def project_point_on_line(a, b, p):\n",
    "    # Vektor AB\n",
    "    ab = [b[0] - a[0], b[1] - a[1]]\n",
    "    # Vektor AP\n",
    "    ap = [p[0] - a[0], p[1] - a[1]]\n",
    "    # Skalární součin vektorů AB a AP\n",
    "    ab_ap_product = ab[0] * ap[0] + ab[1] * ap[1]\n",
    "    # Kvadrát délky vektoru AB\n",
    "    ab_length_squared = ab[0] ** 2 + ab[1] ** 2\n",
    "    # Parametr t pro nejbližší bod na přímce\n",
    "    t = ab_ap_product / ab_length_squared\n",
    "    # Výpočet souřadnic projekce\n",
    "    closest_point = [a[0] + t * ab[0], a[1] + t * ab[1]]\n",
    "    return closest_point\n",
    "\n",
    "\n",
    "# Seznam pro uložení projekcí\n",
    "projected_points = []\n",
    "\n",
    "# Projekce každého bodu na příjímku\n",
    "for point in points:\n",
    "    proj_point = project_point_on_line(prijimka[0], prijimka[1], point)\n",
    "    projected_points.append(proj_point)\n",
    "\n",
    "print(\"\\\\addplot[mark=triangle*,red]  coordinates{\", end=\"\")\n",
    "# Tisk projekcí\n",
    "for proj_point in projected_points:\n",
    "    print(f\"({proj_point[0]},{proj_point[1]})\", end=\"\")\n",
    "\n",
    "print(\"}\")\n"
   ]
  },
  {
   "cell_type": "code",
   "execution_count": 56,
   "metadata": {
    "ExecuteTime": {
     "end_time": "2024-03-21T00:09:26.935533302Z",
     "start_time": "2024-03-21T00:09:26.934890701Z"
    },
    "colab": {
     "base_uri": "https://localhost:8080/"
    },
    "id": "7lp89udddpep",
    "outputId": "77766d52-d09c-4b12-9afa-c6bc855c145a"
   },
   "outputs": [
    {
     "name": "stdout",
     "output_type": "stream",
     "text": [
      "\\draw[gray, dotted] (axis cs: 0.3745401188473625,0.9507143064099162) -- (axis cs: 0.21936602633519917,0.7844204618433638 );\n",
      "\\draw[gray, dotted] (axis cs: 0.7319939418114051,0.5986584841970366) -- (axis cs: 0.5860498624454391,0.4422560741259731 );\n",
      "\\draw[gray, dotted] (axis cs: 0.15601864044243652,0.15599452033620265) -- (axis cs: 0.4989656852230379,0.5235170985967039 );\n",
      "\\draw[gray, dotted] (axis cs: 0.05808361216819946,0.8661761457749352) -- (axis cs: 0.09237250163327393,0.9029221718850465 );\n",
      "\\draw[gray, dotted] (axis cs: 0.6011150117432088,0.7080725777960455) -- (axis cs: 0.46151234520466733,0.5584660052387307 );\n",
      "\\draw[gray, dotted] (axis cs: 0.020584494295802447,0.9699098521619943) -- (axis cs: 0.020584494295802447,0.9699098521619943 );\n",
      "\\draw[gray, dotted] (axis cs: 0.8324426408004217,0.21233911067827616) -- (axis cs: 0.8324426408004217,0.21233911067827616 );\n",
      "\\draw[gray, dotted] (axis cs: 0.18182496720710062,0.18340450985343382) -- (axis cs: 0.4990881990594175,0.5234027770267748 );\n",
      "\\draw[gray, dotted] (axis cs: 0.3042422429595377,0.5247564316322378) -- (axis cs: 0.3942582376700823,0.6212229589407545 );\n",
      "\\draw[gray, dotted] (axis cs: 0.43194501864211576,0.2912291401980419) -- (axis cs: 0.5790062182979707,0.4488287232303999 );\n",
      "\\draw[gray, dotted] (axis cs: 0.6118528947223795,0.13949386065204183) -- (axis cs: 0.7508621358082932,0.2884644829783388 );\n",
      "\\draw[gray, dotted] (axis cs: 0.29214464853521815,0.3663618432936917) -- (axis cs: 0.4667994787187105,0.5535324122535499 );\n",
      "\\draw[gray, dotted] (axis cs: 0.45606998421703593,0.7851759613930136) -- (axis cs: 0.3455190930103283,0.6667030100040372 );\n",
      "\\draw[gray, dotted] (axis cs: 0.19967378215835974,0.5142344384136116) -- (axis cs: 0.34360967163737505,0.668484752013452 );\n",
      "\\draw[gray, dotted] (axis cs: 0.5924145688620425,0.046450412719997725) -- (axis cs: 0.7868819240523611,0.2548532692390556 );\n",
      "\\draw[gray, dotted] (axis cs: 0.6075448519014384,0.17052412368729153) -- (axis cs: 0.7330812269314801,0.30505641640914427 );\n",
      "\\draw[gray, dotted] (axis cs: 0.06505159298527952,0.9488855372533332) -- (axis cs: 0.0548413785472877,0.9379436603893877 );\n",
      "\\draw[gray, dotted] (axis cs: 0.9656320330745594,0.8083973481164611) -- (axis cs: 0.6063221413788916,0.4233393638000357 );\n",
      "\\draw[gray, dotted] (axis cs: 0.3046137691733707,0.09767211400638387) -- (axis cs: 0.6074885972732018,0.4222509065854778 );\n",
      "\\draw[gray, dotted] (axis cs: 0.6842330265121569,0.4401524937396013) -- (axis cs: 0.6395828714377785,0.392302715290089 );\n"
     ]
    }
   ],
   "source": [
    "import matplotlib.pyplot as plt\n",
    "\n",
    "# vykreslní promitnutí na přijímku\n",
    "for i in range(len(points)):\n",
    "    print(\n",
    "        f\"\\\\draw[gray, dotted] (axis cs: {points[i][0]},{points[i][1]}) -- (axis cs: {projected_points[i][0]},{projected_points[i][1]} );\")\n",
    "\n"
   ]
  },
  {
   "cell_type": "code",
   "execution_count": 57,
   "metadata": {
    "ExecuteTime": {
     "end_time": "2024-03-21T00:09:26.935817863Z",
     "start_time": "2024-03-21T00:09:26.935003801Z"
    },
    "colab": {
     "base_uri": "https://localhost:8080/"
    },
    "id": "0s7RsDOmkBEV",
    "outputId": "3db629ff-1864-4e9d-bfa9-afb04ef5914a"
   },
   "outputs": [
    {
     "name": "stdout",
     "output_type": "stream",
     "text": [
      "\\draw[blue] (axis cs: 0.49902694214122767, 0.5234599378117394) circle (2);\n"
     ]
    }
   ],
   "source": [
    "median = np.median(projected_points, axis=0)\n",
    "\n",
    "print(f\"\\\\draw[blue] (axis cs: {median[0]}, {median[1]}) circle (2);\")\n"
   ]
  },
  {
   "cell_type": "code",
   "execution_count": 58,
   "metadata": {
    "ExecuteTime": {
     "end_time": "2024-03-21T00:09:26.943538206Z",
     "start_time": "2024-03-21T00:09:26.935089722Z"
    },
    "colab": {
     "base_uri": "https://localhost:8080/"
    },
    "id": "pzPaTMHEn63z",
    "outputId": "5335aaaa-bc44-4147-cc36-80c257fdd672"
   },
   "outputs": [
    {
     "name": "stdout",
     "output_type": "stream",
     "text": [
      "(0.7575707414837182, 0.8118581465046193)\n",
      "x*0.7575707414837182+y*0.8118581465046193+-0.8030234254595443\n"
     ]
    }
   ],
   "source": [
    "def normal_vector(A, B):\n",
    "    \"\"\"\n",
    "    Vypočítá normálový vektor k přímce AB v 2D prostoru.\n",
    "\n",
    "    Parametry:\n",
    "    A (tuple/list): Bod A ve formě (x1, y1).\n",
    "    B (tuple/list): Bod B ve formě (x2, y2).\n",
    "\n",
    "    Vrací:\n",
    "    tuple: Normálový vektor přímky AB ve formě (nx, ny).\n",
    "    \"\"\"\n",
    "    # Vypočítáme směrový vektor AB\n",
    "    v_x = B[0] - A[0]\n",
    "    v_y = B[1] - A[1]\n",
    "\n",
    "    # Vypočítáme normálový vektor jako ortogonální k v\n",
    "    n_x = -v_y\n",
    "    n_y = v_x\n",
    "\n",
    "    return (n_x, n_y)\n",
    "\n",
    "\n",
    "normal = normal_vector(a, b)\n",
    "print(normal)\n",
    "\n",
    "c = -(normal[0] * median[0] + normal[1] * median[1])\n",
    "\n",
    "print(f\"x*{normal[0]}+y*{normal[1]}+{c}\")"
   ]
  },
  {
   "cell_type": "code",
   "execution_count": 59,
   "metadata": {
    "ExecuteTime": {
     "end_time": "2024-03-21T00:09:26.955449486Z",
     "start_time": "2024-03-21T00:09:26.942801294Z"
    },
    "colab": {
     "base_uri": "https://localhost:8080/"
    },
    "id": "GJCl2ms1qLfs",
    "outputId": "871d7a1c-8131-4159-9a3e-231665a0e21c"
   },
   "outputs": [
    {
     "name": "stdout",
     "output_type": "stream",
     "text": [
      "\\addplot[mark=+, only marks,red]  coordinates{(0.7319939418114051,0.5986584841970366)(0.8324426408004217,0.21233911067827616)(0.43194501864211576,0.2912291401980419)(0.6118528947223795,0.13949386065204183)(0.5924145688620425,0.046450412719997725)(0.6075448519014384,0.17052412368729153)(0.9656320330745594,0.8083973481164611)(0.3046137691733707,0.09767211400638387)(0.6842330265121569,0.4401524937396013)};\n",
      "\\addplot[mark=+, only marks,orange]  coordinates{(0.3745401188473625,0.9507143064099162)(0.15601864044243652,0.15599452033620265)(0.05808361216819946,0.8661761457749352)(0.6011150117432088,0.7080725777960455)(0.020584494295802447,0.9699098521619943)(0.18182496720710062,0.18340450985343382)(0.3042422429595377,0.5247564316322378)(0.29214464853521815,0.3663618432936917)(0.45606998421703593,0.7851759613930136)(0.19967378215835974,0.5142344384136116)(0.06505159298527952,0.9488855372533332)};\n",
      "\\addplot[only marks,orange]  coordinates{(0.21936602633519917,0.7844204618433638)(0.4989656852230379,0.5235170985967039)(0.09237250163327393,0.9029221718850465)(0.46151234520466733,0.5584660052387307)(0.020584494295802447,0.9699098521619943)(0.4990881990594175,0.5234027770267748)(0.3942582376700823,0.6212229589407545)(0.4667994787187105,0.5535324122535499)(0.3455190930103283,0.6667030100040372)(0.34360967163737505,0.668484752013452)(0.0548413785472877,0.9379436603893877)};\n",
      "\\addplot[only marks,red]  coordinates{(0.5860498624454391,0.4422560741259731)(0.8324426408004217,0.21233911067827616)(0.5790062182979707,0.4488287232303999)(0.7508621358082932,0.2884644829783388)(0.7868819240523611,0.2548532692390556)(0.7330812269314801,0.30505641640914427)(0.6063221413788916,0.4233393638000357)(0.6074885972732018,0.4222509065854778)(0.6395828714377785,0.392302715290089)};\n"
     ]
    }
   ],
   "source": [
    "S_l = []\n",
    "S_r = []\n",
    "\n",
    "S_l_tran = []\n",
    "S_r_tran = []\n",
    "\n",
    "for l in range(len(projected_points)):\n",
    "    i = projected_points[l]\n",
    "    if i[0] < i[1] * 1.0716598491 - 0.01132:\n",
    "        S_l.append(points[l])\n",
    "        S_l_tran.append(i)\n",
    "    else:\n",
    "        S_r.append(points[l])\n",
    "        S_r_tran.append(i)\n",
    "\n",
    "print(\"\\\\addplot[mark=+, only marks,red]  coordinates{\", end=\"\")\n",
    "# Tisk projekcí\n",
    "for proj_point in S_r:\n",
    "    print(f\"({proj_point[0]},{proj_point[1]})\", end=\"\")\n",
    "\n",
    "print(\"};\")\n",
    "\n",
    "print(\"\\\\addplot[mark=+, only marks,orange]  coordinates{\", end=\"\")\n",
    "# Tisk projekcí\n",
    "for proj_point in S_l:\n",
    "    print(f\"({proj_point[0]},{proj_point[1]})\", end=\"\")\n",
    "\n",
    "print(\"};\")\n",
    "\n",
    "print(\"\\\\addplot[only marks,orange]  coordinates{\", end=\"\")\n",
    "# Tisk projekcí\n",
    "for proj_point in S_l_tran:\n",
    "    print(f\"({proj_point[0]},{proj_point[1]})\", end=\"\")\n",
    "\n",
    "print(\"};\")\n",
    "\n",
    "print(\"\\\\addplot[only marks,red]  coordinates{\", end=\"\")\n",
    "# Tisk projekcí\n",
    "for proj_point in S_r_tran:\n",
    "    print(f\"({proj_point[0]},{proj_point[1]})\", end=\"\")\n",
    "\n",
    "print(\"};\")"
   ]
  },
  {
   "cell_type": "code",
   "execution_count": 60,
   "metadata": {
    "ExecuteTime": {
     "end_time": "2024-03-21T00:09:26.991295975Z",
     "start_time": "2024-03-21T00:09:26.955565086Z"
    },
    "colab": {
     "base_uri": "https://localhost:8080/"
    },
    "id": "Tdwld-wkxFgs",
    "outputId": "a455e86c-baba-4902-fa36-6a8a35447e9a"
   },
   "outputs": [
    {
     "name": "stdout",
     "output_type": "stream",
     "text": [
      "\\addplot[only marks,darkorange]  coordinates{(0.24630446323268557,0.6339714658471286)};\n",
      "\\addplot[only marks,darkred]  coordinates{(0.64029697172221,0.3116574542216814)};\n",
      "\n",
      "\\node [draw] at ( axis cs:0.24630446323268557,0.6339714658471286) [circle through={(axis cs: 0.9656320330745594,0.8083973481164611)}] {};\n",
      "\\node [draw] at ( axis cs:0.64029697172221,0.3116574542216814) [circle through={(axis cs: 0.15601864044243652,0.15599452033620265)}] {};\n"
     ]
    },
    {
     "data": {
      "text/plain": [
       "(array([0.15601864, 0.15599452]),\n",
       " array([0.96563203, 0.80839735]),\n",
       " [array([0.37454012, 0.95071431]),\n",
       "  array([0.15601864, 0.15599452]),\n",
       "  array([0.05808361, 0.86617615]),\n",
       "  array([0.60111501, 0.70807258]),\n",
       "  array([0.02058449, 0.96990985]),\n",
       "  array([0.18182497, 0.18340451]),\n",
       "  array([0.30424224, 0.52475643]),\n",
       "  array([0.29214465, 0.36636184]),\n",
       "  array([0.45606998, 0.78517596]),\n",
       "  array([0.19967378, 0.51423444]),\n",
       "  array([0.06505159, 0.94888554])],\n",
       " 0.4864293270731802)"
      ]
     },
     "execution_count": 60,
     "metadata": {},
     "output_type": "execute_result"
    }
   ],
   "source": [
    "def distance(a, b):\n",
    "    distance = sqrt((a[0] - b[0]) ** 2 + (a[1] - b[1]) ** 2)\n",
    "\n",
    "    return distance\n",
    "\n",
    "\n",
    "mean_l = np.array(S_l).mean(axis=0)\n",
    "mean_r = np.array(S_r).mean(axis=0)\n",
    "\n",
    "furthes_l = find_furthest_point(S_l, mean_l)\n",
    "furthes_r = find_furthest_point(S_r, mean_r)\n",
    "\n",
    "print(\"\\\\addplot[only marks,darkorange]  coordinates{\", end=\"\")\n",
    "print(f\"({mean_l[0]},{mean_l[1]})\", end=\"\")\n",
    "print(\"};\")\n",
    "\n",
    "print(\"\\\\addplot[only marks,darkred]  coordinates{\", end=\"\")\n",
    "print(f\"({mean_r[0]},{mean_r[1]})\", end=\"\")\n",
    "print(\"};\")\n",
    "\n",
    "## něco je špatně nevím co ale je to bs tohle je to číslo : 0.15601864044243652, 0.15599452033620265\n",
    "print(f\"\"\"\n",
    "\\\\node [draw] at ( axis cs:{mean_l[0]},{mean_l[1]}) [circle through={{(axis cs: {furthes_r[0]},{furthes_r[1]})}}] {{}};\n",
    "\\\\node [draw] at ( axis cs:{mean_r[0]},{mean_r[1]}) [circle through={{(axis cs: {furthes_l[0]},{furthes_l[1]})}}] {{}};\n",
    "\n",
    "\"\"\")\n",
    "\n",
    "furthes_l, furthes_r, S_l, distance(furthes_l, mean_l)"
   ]
  },
  {
   "cell_type": "code",
   "execution_count": 61,
   "metadata": {
    "ExecuteTime": {
     "end_time": "2024-03-21T00:09:27.104940675Z",
     "start_time": "2024-03-21T00:09:26.975158308Z"
    },
    "colab": {
     "base_uri": "https://localhost:8080/",
     "height": 1000
    },
    "id": "-HWgQSv9wbb_",
    "outputId": "d8efe9cf-781d-4417-e850-bbe2a2671f41"
   },
   "outputs": [
    {
     "data": {
      "image/png": "[encoded data removed]",
      "text/plain": [
       "<Figure size 640x480 with 1 Axes>"
      ]
     },
     "metadata": {},
     "output_type": "display_data"
    }
   ],
   "source": [
    "import matplotlib.pyplot as plt\n",
    "from matplotlib.patches import Circle\n",
    "import itertools\n",
    "\n",
    "points = np.array([\n",
    "    [0.3745401188473625, 0.9507143064099162],\n",
    "    [0.7319939418114051, 0.5986584841970366],\n",
    "    [0.15601864044243652, 0.15599452033620265],\n",
    "    [0.05808361216819946, 0.8661761457749352],\n",
    "    [0.6011150117432088, 0.7080725777960455],\n",
    "    [0.020584494295802447, 0.9699098521619943],\n",
    "    [0.8324426408004217, 0.21233911067827616],\n",
    "    [0.18182496720710062, 0.18340450985343382],\n",
    "    [0.3042422429595377, 0.5247564316322378],\n",
    "    [0.43194501864211576, 0.2912291401980419],\n",
    "    [0.6118528947223795, 0.13949386065204183],\n",
    "    [0.29214464853521815, 0.3663618432936917],\n",
    "    [0.45606998421703593, 0.7851759613930136],\n",
    "    [0.19967378215835974, 0.5142344384136116],\n",
    "    [0.5924145688620425, 0.046450412719997725],\n",
    "    [0.6075448519014384, 0.17052412368729153],\n",
    "    [0.06505159298527952, 0.9488855372533332],\n",
    "    [0.9656320330745594, 0.8083973481164611],\n",
    "    [0.3046137691733707, 0.09767211400638387],\n",
    "    [0.6842330265121569, 0.4401524937396013]\n",
    "])\n",
    "\n",
    "\n",
    "def find_line_equation(p1, p2):\n",
    "    \"\"\"\n",
    "    Vypočítá rovnici přímky ve tvaru y = mx + b procházející dvěma body.\n",
    "    \"\"\"\n",
    "    (x1, y1), (x2, y2) = p1, p2\n",
    "    m = (y2 - y1) / (x2 - x1)  # Směrnice\n",
    "    b = y1 - m * x1  # Y-intercept\n",
    "    return m, b\n",
    "\n",
    "\n",
    "def find_perpendicular_line(m, point):\n",
    "    \"\"\"\n",
    "    Vypočítá rovnici kolmé přímky ve tvaru y = mx + b procházející daným bodem.\n",
    "    \"\"\"\n",
    "    x3, y3 = point\n",
    "    m_perpendicular = -1 / m  # Směrnice kolmé přímky\n",
    "    b_perpendicular = y3 - m_perpendicular * x3  # Y-intercept pro kolmici\n",
    "    return m_perpendicular, b_perpendicular\n",
    "\n",
    "\n",
    "def najdi_nejvzdalenejsi_bod(bodove_pole, referencni_bod):\n",
    "    # Vypočítáme euklidovské vzdálenosti mezi referenčním bodem a všemi body v poli\n",
    "    vzdalenosti = np.sqrt(np.sum((bodove_pole - referencni_bod) ** 2, axis=1))\n",
    "    # Najdeme index bodu s největší vzdáleností\n",
    "    index_nejvzdalenejsiho_bodu = np.argmax(vzdalenosti)\n",
    "    # Vrátíme bod s největší vzdáleností\n",
    "    return bodove_pole[index_nejvzdalenejsiho_bodu]\n",
    "\n",
    "\n",
    "# Vytvoření seznamu barv pro iteraci\n",
    "barvy = plt.get_cmap('tab20').colors + plt.get_cmap('Set3').colors\n",
    "\n",
    "# Vytvoření cyklického iterátoru\n",
    "cyklicke_barvy = itertools.cycle(barvy)\n",
    "\n",
    "alphabet = [\"a\", \"b\", \"c\", \"d\", \"e\", \"f\", \"g\", \"h\", \"i\"]\n",
    "hovnokod = 0\n",
    "\n",
    "\n",
    "class BallTree:\n",
    "    name = \"\"\n",
    "\n",
    "    def __init__(self, points, leaf_size=1):\n",
    "        self.points = np.array(points)\n",
    "        self.center = np.mean(self.points, axis=0)\n",
    "        self.radius = distance(find_furthest_point(self.points, self.center), self.center)\n",
    "        self.left = None\n",
    "        self.right = None\n",
    "\n",
    "        rndpoint = points[1]\n",
    "\n",
    "        A = najdi_nejvzdalenejsi_bod(self.points, rndpoint)\n",
    "        B = najdi_nejvzdalenejsi_bod(self.points, A)\n",
    "        prijimka = [A, B]\n",
    "        self.a = A\n",
    "        self.b = B\n",
    "\n",
    "        median = np.median(self.points, axis=0)\n",
    "\n",
    "        m, b = find_line_equation(A, B)\n",
    "        m_perpendicular, b_perpendicular = find_perpendicular_line(m, median)\n",
    "\n",
    "        S_l = []\n",
    "        S_r = []\n",
    "\n",
    "        for i in self.points:\n",
    "            if i[1] > i[0] * m_perpendicular + b_perpendicular:\n",
    "                S_l.append(i)\n",
    "            else:\n",
    "                S_r.append(i)\n",
    "\n",
    "        if len(self.points) > leaf_size:\n",
    "            self.left = BallTree(S_l, leaf_size)\n",
    "            self.right = BallTree(S_r, leaf_size)\n",
    "\n",
    "        self.children = [self.left, self.right]\n",
    "        self.children = [i for i in self.children if i is not None]\n",
    "\n",
    "    def plot(self, ax, side=None):\n",
    "        if self.left is None and self.right is None:\n",
    "            color = next(cyklicke_barvy)\n",
    "            circle = Circle(self.center, self.radius, fill=False, color=color)\n",
    "            ax.add_patch(circle)\n",
    "            global hovnokod\n",
    "            plt.text(self.center[0], self.center[1], alphabet[hovnokod])\n",
    "            self.name = alphabet[hovnokod]\n",
    "            hovnokod += 1\n",
    "            if len(self.points) != 0:\n",
    "                ax.plot(self.points[:, 0], self.points[:, 1], 'o', color=color)\n",
    "\n",
    "        # ax.plot(self.center[0], self.center_r[1], \"x\", color=color)\n",
    "        # ax.plot([self.a[0], self.b[0]], [self.a[1], self.b[1]], 'o-', color=color)\n",
    "\n",
    "        if self.left is not None:\n",
    "            self.left.plot(ax)\n",
    "        if self.right is not None:\n",
    "            self.right.plot(ax)\n",
    "\n",
    "    def plot_all(self, ax, side=None):\n",
    "\n",
    "        color = next(cyklicke_barvy)\n",
    "        circle = Circle(self.center, self.radius, fill=False, color=color)\n",
    "        ax.add_patch(circle)\n",
    "        if len(self.points) != 0:\n",
    "            ax.plot(self.points[:, 0], self.points[:, 1], 'o', color=color)\n",
    "\n",
    "        if self.left is not None and self.right is not None:\n",
    "            # ax.plot(self.center[0], self.center_r[1], \"x\", color=color)\n",
    "            ax.plot([self.left.a[0], self.right.b[0]], [self.left.a[1], self.right.b[1]], 'o-', color=color)\n",
    "\n",
    "        if self.left is not None:\n",
    "            self.left.plot(ax)\n",
    "        if self.right is not None:\n",
    "            self.right.plot(ax)\n",
    "\n",
    "\n",
    "# Příklad použití\n",
    "tree = BallTree(points, leaf_size=3)\n",
    "\n",
    "fig, ax = plt.subplots()\n",
    "\n",
    "# ax.plot(points[:, 0], points[:, 1], 'ro')\n",
    "\n",
    "tree.plot(ax)\n",
    "\n",
    "\"\"\"\n",
    "circle = Circle(tree.center_l, tree.radius_l, fill=False)\n",
    "ax.add_patch(circle)\n",
    "circle2 = Circle(tree.center_r, tree.radius_r, fill=False)\n",
    "ax.add_patch(circle2)\n",
    "\"\"\"\n",
    "\n",
    "ax.set_aspect('equal')\n",
    "plt.xlim(0, 1)\n",
    "plt.ylim(0, 1)\n",
    "plt.savefig(\"full_balltree.pdf\")"
   ]
  },
  {
   "cell_type": "code",
   "execution_count": 62,
   "metadata": {
    "ExecuteTime": {
     "end_time": "2024-03-21T00:09:27.157702434Z",
     "start_time": "2024-03-21T00:09:27.107844690Z"
    },
    "id": "sDv80ByY-IMC"
   },
   "outputs": [
    {
     "name": "stdout",
     "output_type": "stream",
     "text": [
      "            \u001b[100m  \u001b[0m\n",
      "    ┌───────┴───────┐\n",
      "    \u001b[100m  \u001b[0m              \u001b[100m  \u001b[0m         \n",
      " ┌──┴──┐       ┌────┴─────┐    \n",
      "\u001b[100m a \u001b[0m    \u001b[100m  \u001b[0m      \u001b[100m  \u001b[0m         \u001b[100m  \u001b[0m   \n",
      "     ┌─┴─┐   ┌─┴─┐     ┌──┴──┐ \n",
      "    \u001b[100m b \u001b[0m \u001b[100m c \u001b[0m \u001b[100m d \u001b[0m \u001b[100m e \u001b[0m    \u001b[100m  \u001b[0m   \u001b[100m h \u001b[0m\n",
      "                     ┌─┴─┐     \n",
      "                    \u001b[100m f \u001b[0m \u001b[100m g \u001b[0m\n"
     ]
    }
   ],
   "source": [
    "from PrettyPrint import PrettyPrintTree\n",
    "\n",
    "pt = PrettyPrintTree(lambda x: x.children, lambda x: x.name)\n",
    "pt(tree)\n"
   ]
  },
  {
   "cell_type": "code",
   "execution_count": 62,
   "metadata": {
    "ExecuteTime": {
     "end_time": "2024-03-21T00:09:27.157986884Z",
     "start_time": "2024-03-21T00:09:27.148826579Z"
    },
    "collapsed": false,
    "jupyter": {
     "outputs_hidden": false
    }
   },
   "outputs": [],
   "source": []
  }
 ],
 "metadata": {
  "colab": {
   "provenance": []
  },
  "kernelspec": {
   "display_name": "Python 3 (ipykernel)",
   "language": "python",
   "name": "python3"
  },
  "language_info": {
   "codemirror_mode": {
    "name": "ipython",
    "version": 3
   },
   "file_extension": ".py",
   "mimetype": "text/x-python",
   "name": "python",
   "nbconvert_exporter": "python",
   "pygments_lexer": "ipython3",
   "version": "3.11.8"
  }
 },
 "nbformat": 4,
 "nbformat_minor": 4
}
