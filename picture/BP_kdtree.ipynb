{
 "cells": [
  {
   "cell_type": "code",
   "execution_count": 39,
   "id": "ba20f7f66b92d3f4",
   "metadata": {
    "collapsed": false,
    "ExecuteTime": {
     "end_time": "2024-03-25T00:27:15.238082966Z",
     "start_time": "2024-03-25T00:27:15.194697105Z"
    }
   },
   "outputs": [],
   "source": [
    "import numpy as np\n",
    "\n",
    "counter = 0\n",
    "alphabet = 'abcdefghijklmnopqrstuvwxyz'\n",
    "\n",
    "\n",
    "class KDTree:\n",
    "    def __init__(self, points, node_size=2, depth=0):\n",
    "        self.points = points\n",
    "        self.median = None\n",
    "        self.children = []\n",
    "        self.left = None\n",
    "        self.right = None\n",
    "        self.centroid = np.mean(points, axis=0)\n",
    "        self.name = 0\n",
    "\n",
    "        if len(points) <= node_size:\n",
    "            global counter\n",
    "            self.name = alphabet[counter]\n",
    "            counter += 1\n",
    "            return\n",
    "            # Select axis based on depth so that axis cycles over all valid values\n",
    "        axis = depth % 2\n",
    "\n",
    "        # Sort point list and choose median as pivot element\n",
    "        sorted_indices = np.argsort(points[:, axis])\n",
    "        points = points[sorted_indices]\n",
    "        median_idx = len(points) // 2\n",
    "\n",
    "        # Create node and construct subtrees\n",
    "        self.left = KDTree(points[:median_idx], node_size, depth + 1)\n",
    "        self.right = KDTree(points[median_idx:], node_size, depth + 1)\n",
    "        self.children = [self.right, self.left]\n",
    "\n",
    "        self.median = points[median_idx]\n",
    "        self.axis = axis\n",
    "\n",
    "    def set_rectangle_center(self, points):\n",
    "        \"\"\"Vypočítá střed obdelníku pro listový uzel.\"\"\"\n",
    "        min_x, min_y = np.min(points, axis=0)\n",
    "        max_x, max_y = np.max(points, axis=0)\n",
    "        self.rectangle_center = ((min_x + max_x) / 2, (min_y + max_y) / 2)\n",
    "\n",
    "    def visualize(self, ax, min_x, max_x, min_y, max_y, depth=0):\n",
    "        # Define a list of colors to cycle through for each depth\n",
    "        colors = ['r', 'g', 'b', 'c', 'm', 'y', 'k']\n",
    "        color = \"r\"\n",
    "\n",
    "        self.set_rectangle_center(self.points)\n",
    "        if self.name:\n",
    "            ax.text(self.rectangle_center[0], self.rectangle_center[1], self.name)\n",
    "\n",
    "        if self.median is not None:\n",
    "            if self.axis == 0:  # x-axis\n",
    "                ax.plot([self.median[0], self.median[0]], [min_y, max_y], color + '-')\n",
    "\n",
    "\n",
    "                if self.left:\n",
    "                    self.left.visualize(ax, min_x, self.median[0], min_y, max_y, depth + 1)\n",
    "                if self.right:\n",
    "                    self.right.visualize(ax, self.median[0], max_x, min_y, max_y, depth + 1)\n",
    "            else:  # y-axis\n",
    "                ax.plot([min_x, max_x], [self.median[1], self.median[1]], color + '-')\n",
    "                # ax.text(self.median[0], self.median[1], alphabet[counter])\n",
    "\n",
    "                if self.left:\n",
    "                    self.left.visualize(ax, min_x, max_x, min_y, self.median[1], depth + 1)\n",
    "                if self.right:\n",
    "                    self.right.visualize(ax, min_x, max_x, self.median[1], max_y, depth + 1)\n",
    "\n",
    "\n"
   ]
  },
  {
   "cell_type": "code",
   "outputs": [
    {
     "data": {
      "text/plain": "<Figure size 640x480 with 1 Axes>",
      "image/png": "[encoded data removed]"
     },
     "metadata": {},
     "output_type": "display_data"
    }
   ],
   "source": [
    "\n",
    "# Example usage\n",
    "points = np.array([\n",
    "    [0.3745401188473625, 0.9507143064099162],\n",
    "    [0.7319939418114051, 0.5986584841970366],\n",
    "    [0.15601864044243652, 0.15599452033620265],\n",
    "    [0.05808361216819946, 0.8661761457749352],\n",
    "    [0.6011150117432088, 0.7080725777960455],\n",
    "    [0.020584494295802447, 0.9699098521619943],\n",
    "    [0.8324426408004217, 0.21233911067827616],\n",
    "    [0.18182496720710062, 0.18340450985343382],\n",
    "    [0.3042422429595377, 0.5247564316322378],\n",
    "    [0.43194501864211576, 0.2912291401980419],\n",
    "    [0.6118528947223795, 0.13949386065204183],\n",
    "    [0.29214464853521815, 0.3663618432936917],\n",
    "    [0.45606998421703593, 0.7851759613930136],\n",
    "    [0.19967378215835974, 0.5142344384136116],\n",
    "    [0.5924145688620425, 0.046450412719997725],\n",
    "    [0.6075448519014384, 0.17052412368729153],\n",
    "    [0.06505159298527952, 0.9488855372533332],\n",
    "    [0.9656320330745594, 0.8083973481164611],\n",
    "    [0.3046137691733707, 0.09767211400638387],\n",
    "    [0.6842330265121569, 0.4401524937396013]\n",
    "])\n",
    "\n",
    "tree = KDTree(points, 3)\n",
    "fig, ax = plt.subplots()\n",
    "ax.scatter(points[:, 0], points[:, 1])\n",
    "tree.visualize(ax, 0, 1, 0, 1)\n",
    "\n",
    "ax = plt.gca()\n",
    "ax.set_aspect('equal', adjustable='box')\n",
    "\n",
    "plt.savefig(\"kdtree.pdf\")\n",
    "plt.show()\n"
   ],
   "metadata": {
    "collapsed": true,
    "ExecuteTime": {
     "end_time": "2024-03-25T00:27:15.348675301Z",
     "start_time": "2024-03-25T00:27:15.236083873Z"
    }
   },
   "id": "initial_id",
   "execution_count": 40
  },
  {
   "cell_type": "code",
   "outputs": [],
   "source": [],
   "metadata": {
    "collapsed": false,
    "ExecuteTime": {
     "end_time": "2024-03-25T00:27:15.398029889Z",
     "start_time": "2024-03-25T00:27:15.349203041Z"
    }
   },
   "id": "43de2c24d6555585",
   "execution_count": 40
  },
  {
   "cell_type": "code",
   "outputs": [],
   "source": [],
   "metadata": {
    "collapsed": false,
    "ExecuteTime": {
     "end_time": "2024-03-25T00:27:15.398221400Z",
     "start_time": "2024-03-25T00:27:15.390102349Z"
    }
   },
   "id": "d03c7efd0d4b2e55",
   "execution_count": 40
  },
  {
   "cell_type": "code",
   "outputs": [
    {
     "name": "stdout",
     "output_type": "stream",
     "text": [
      "              \u001B[100m 0 \u001B[0m\n",
      "       ┌───────┴───────┐\n",
      "      \u001B[100m 0 \u001B[0m             \u001B[100m 0 \u001B[0m      \n",
      "   ┌───┴───┐       ┌───┴───┐   \n",
      "  \u001B[100m 0 \u001B[0m     \u001B[100m 0 \u001B[0m     \u001B[100m 0 \u001B[0m     \u001B[100m 0 \u001B[0m  \n",
      " ┌─┴─┐   ┌─┴─┐   ┌─┴─┐   ┌─┴─┐ \n",
      "\u001B[100m h \u001B[0m \u001B[100m g \u001B[0m \u001B[100m f \u001B[0m \u001B[100m e \u001B[0m \u001B[100m d \u001B[0m \u001B[100m c \u001B[0m \u001B[100m b \u001B[0m \u001B[100m a \u001B[0m\n"
     ]
    }
   ],
   "source": [
    "from PrettyPrint import PrettyPrintTree\n",
    "\n",
    "pt = PrettyPrintTree(lambda x: x.children, lambda x: x.name)\n",
    "pt(tree)"
   ],
   "metadata": {
    "collapsed": false,
    "ExecuteTime": {
     "end_time": "2024-03-25T00:27:15.398434130Z",
     "start_time": "2024-03-25T00:27:15.390193909Z"
    }
   },
   "id": "134b7ad0e0b4c6f6",
   "execution_count": 41
  }
 ],
 "metadata": {
  "kernelspec": {
   "display_name": "Python 3",
   "language": "python",
   "name": "python3"
  },
  "language_info": {
   "codemirror_mode": {
    "name": "ipython",
    "version": 2
   },
   "file_extension": ".py",
   "mimetype": "text/x-python",
   "name": "python",
   "nbconvert_exporter": "python",
   "pygments_lexer": "ipython2",
   "version": "2.7.6"
  }
 },
 "nbformat": 4,
 "nbformat_minor": 5
}
